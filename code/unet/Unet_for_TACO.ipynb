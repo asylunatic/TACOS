{
  "nbformat": 4,
  "nbformat_minor": 0,
  "metadata": {
    "colab": {
      "name": "Unet for TACO (final)",
      "provenance": [],
      "collapsed_sections": [],
      "toc_visible": true
    },
    "kernelspec": {
      "name": "python3",
      "display_name": "Python 3"
    },
    "accelerator": "GPU"
  },
  "cells": [
    {
      "cell_type": "markdown",
      "metadata": {
        "id": "TlM0KKGCT_dM",
        "colab_type": "text"
      },
      "source": [
        "# Trash detection with Unet on the TACO Dataset\n",
        "\n",
        "In this notebook, we evaluate the performance of [U-Net](https://lmb.informatik.uni-freiburg.de/people/ronneber/u-net/) on the [Trash Annotations in Context (TACO) dataset](http://tacodataset.org/). TACO consists of 1500 photos of litter taken in diverse environments, annotated according to the [COCO](http://cocodataset.org/#home) format.\n"
      ]
    },
    {
      "cell_type": "markdown",
      "metadata": {
        "id": "IWe18LIAVIOu",
        "colab_type": "text"
      },
      "source": [
        "# Setting up"
      ]
    },
    {
      "cell_type": "markdown",
      "metadata": {
        "id": "zK9karl48IHJ",
        "colab_type": "text"
      },
      "source": [
        "First, we install all dependencies required:"
      ]
    },
    {
      "cell_type": "code",
      "metadata": {
        "id": "OzrTR2PL8LId",
        "colab_type": "code",
        "colab": {
          "base_uri": "https://localhost:8080/",
          "height": 116
        },
        "outputId": "88631695-781b-4d17-badf-f64179571a45"
      },
      "source": [
        "!pip install torch torchvision\n",
        "!pip install -q kaggle\n",
        "\n",
        "import torch\n",
        "import torch.optim as optim\n",
        "import torchvision.transforms as transforms\n",
        "from torch.utils.data import DataLoader, Dataset\n",
        "from torch import nn\n",
        "import torch.nn.functional as F\n",
        "import random\n",
        "import os\n",
        "import time\n",
        "import math\n",
        "\n",
        "import matplotlib.pyplot as plt\n",
        "from matplotlib.ticker import MultipleLocator\n",
        "\n",
        "import numpy as np\n",
        "\n",
        "from PIL import Image, ExifTags\n",
        "from pathlib import Path\n",
        "from typing import Tuple\n",
        "\n",
        "from google.colab import drive\n",
        "from google.colab import files\n",
        "\n",
        "import json\n",
        "import urllib.request\n",
        "from pycocotools.coco import COCO\n",
        "import skimage.io as io\n",
        "\n",
        "import copy\n",
        "\n",
        "\n",
        "np.random.seed(1)\n",
        "random.seed(1)\n",
        "\n",
        "torch.cuda.set_device(0)\n",
        "torch.manual_seed(0)"
      ],
      "execution_count": null,
      "outputs": [
        {
          "output_type": "stream",
          "text": [
            "Requirement already satisfied: torch in /usr/local/lib/python3.6/dist-packages (1.5.1+cu101)\n",
            "Requirement already satisfied: torchvision in /usr/local/lib/python3.6/dist-packages (0.6.1+cu101)\n",
            "Requirement already satisfied: numpy in /usr/local/lib/python3.6/dist-packages (from torch) (1.18.5)\n",
            "Requirement already satisfied: future in /usr/local/lib/python3.6/dist-packages (from torch) (0.16.0)\n",
            "Requirement already satisfied: pillow>=4.1.1 in /usr/local/lib/python3.6/dist-packages (from torchvision) (7.0.0)\n"
          ],
          "name": "stdout"
        },
        {
          "output_type": "execute_result",
          "data": {
            "text/plain": [
              "<torch._C.Generator at 0x7fd339b82bd0>"
            ]
          },
          "metadata": {
            "tags": []
          },
          "execution_count": 1
        }
      ]
    },
    {
      "cell_type": "markdown",
      "metadata": {
        "id": "9DEFBp-kjTRH",
        "colab_type": "text"
      },
      "source": [
        "Let's also mount a drive to efficiently store results:\n"
      ]
    },
    {
      "cell_type": "code",
      "metadata": {
        "id": "K8QGCwldizcs",
        "colab_type": "code",
        "colab": {
          "base_uri": "https://localhost:8080/",
          "height": 120
        },
        "outputId": "52722c56-8751-4e1b-e801-a00fd7563961"
      },
      "source": [
        "drive.mount('/content/drive')"
      ],
      "execution_count": null,
      "outputs": [
        {
          "output_type": "stream",
          "text": [
            "Go to this URL in a browser: https://accounts.google.com/o/oauth2/auth?client_id=947318989803-6bn6qk8qdgf4n4g3pfee6491hc0brc4i.apps.googleusercontent.com&redirect_uri=urn%3aietf%3awg%3aoauth%3a2.0%3aoob&response_type=code&scope=email%20https%3a%2f%2fwww.googleapis.com%2fauth%2fdocs.test%20https%3a%2f%2fwww.googleapis.com%2fauth%2fdrive%20https%3a%2f%2fwww.googleapis.com%2fauth%2fdrive.photos.readonly%20https%3a%2f%2fwww.googleapis.com%2fauth%2fpeopleapi.readonly\n",
            "\n",
            "Enter your authorization code:\n",
            "··········\n",
            "Mounted at /content/drive\n"
          ],
          "name": "stdout"
        }
      ]
    },
    {
      "cell_type": "markdown",
      "metadata": {
        "id": "LPwAVjasjWO2",
        "colab_type": "text"
      },
      "source": [
        "## Download a resized version of the TACO Dataset:\n",
        "To download a dataset from Kaggle, you need a `kaggle.json` file that contains your Kaggle credentials. The `kaggle.json` file can be downloaded from the website under Account > Create new API token. Then `KAGGLE_CONFIG_DIR` should point to the directory that contains the `kaggle.json`. "
      ]
    },
    {
      "cell_type": "code",
      "metadata": {
        "id": "LcYdv91SjXh1",
        "colab_type": "code",
        "colab": {
          "base_uri": "https://localhost:8080/",
          "height": 150
        },
        "outputId": "0df93f81-83b8-4bd7-820c-df55e83ed5c8"
      },
      "source": [
        "def download_data(dataset_name = \"taco-dataset-resized-640\", dataset_destination = \"taco-dataset-resized-640\"):\n",
        "  os.environ['KAGGLE_CONFIG_DIR'] = \"/content/\"\n",
        "  if not Path(f\"/content/{dataset_destination}\").exists():\n",
        "    print(f\"Downloading and unpacking {dataset_name}...\")\n",
        "    !kaggle datasets download \"verahoveling/\"$dataset_name\n",
        "    !unzip -q \"/content/\"$dataset_name\".zip\" -d $dataset_destination\n",
        "\n",
        "def download_masks(dataset_name = \"taco-dataset-resized-640-masks\", dataset_destination = \"taco-dataset-resized-640-masks\"):\n",
        "  os.environ['KAGGLE_CONFIG_DIR'] = \"/content/\"\n",
        "  if not Path(f\"/content/{dataset_destination}\").exists():\n",
        "    print(f\"Downloading and unpacking {dataset_name}...\")\n",
        "    !kaggle datasets download \"sranjha/\"$dataset_name\n",
        "    !unzip -q \"/content/\"$dataset_name\".zip\" -d $dataset_destination\n",
        "\n",
        "download_data()\n",
        "download_masks()"
      ],
      "execution_count": null,
      "outputs": [
        {
          "output_type": "stream",
          "text": [
            "Downloading and unpacking taco-dataset-resized-640...\n",
            "Downloading taco-dataset-resized-640.zip to /content\n",
            " 96% 121M/126M [00:02<00:00, 52.8MB/s]\n",
            "100% 126M/126M [00:02<00:00, 53.2MB/s]\n",
            "Downloading and unpacking taco-dataset-resized-640-masks...\n",
            "Downloading taco-dataset-resized-640-masks.zip to /content\n",
            "  0% 0.00/1.80M [00:00<?, ?B/s]\n",
            "100% 1.80M/1.80M [00:00<00:00, 61.1MB/s]\n"
          ],
          "name": "stdout"
        }
      ]
    },
    {
      "cell_type": "markdown",
      "metadata": {
        "id": "WdPWE-edV0wF",
        "colab_type": "text"
      },
      "source": [
        "A class for the TACO Dataset"
      ]
    },
    {
      "cell_type": "code",
      "metadata": {
        "id": "AZRF3RqqKB-e",
        "colab_type": "code",
        "colab": {}
      },
      "source": [
        "class TacoDataset(torch.utils.data.Dataset):\n",
        "    def __init__(self, img_root, mask_root, annotation_file, transforms=None, usePadding=True, randomCrop=False, randomRotation=False):\n",
        "        self.img_root = img_root\n",
        "        self.mask_root = mask_root\n",
        "        self._image_ids = []\n",
        "        self.transforms = transforms\n",
        "        self.imgs = {}\n",
        "        self.masks = {}\n",
        "        self.usePadding = usePadding\n",
        "        self.randomCrop = randomCrop\n",
        "        self.randomRotation = randomRotation\n",
        "\n",
        "        annotations = json.load(Path(annotation_file).open(\"r\"))\n",
        "        images = annotations['images']\n",
        "        for image in images:\n",
        "            image_path = Path(img_root).joinpath(image['file_name'])\n",
        "            image_id = image['id']\n",
        "            mask_path = Path(mask_root).joinpath(f\"{image_id}.pt\")\n",
        "            self._image_ids.append(image_id)\n",
        "\n",
        "            self.imgs[image_id] = image_path\n",
        "            self.masks[image_id] = mask_path\n",
        "\n",
        "    @property\n",
        "    def image_ids(self):\n",
        "        return self._image_ids\n",
        "\n",
        "\n",
        "    def load_image(self, idx):\n",
        "        \"\"\"Load the specified image and return as a [H,W,3] Numpy array.\"\"\"\n",
        "        image = Image.open(Path(self.img_root).joinpath(self.imgs[idx]))\n",
        "        img_shape = np.shape(image)\n",
        "\n",
        "        # load metadata\n",
        "        exif = image._getexif()\n",
        "        if exif:\n",
        "            exif = dict(exif.items())\n",
        "            # Rotate portrait images if necessary (274 is the orientation tag code)\n",
        "            if 274 in exif:\n",
        "                if exif[274] == 3:\n",
        "                    image = image.rotate(180, expand=True)\n",
        "                if exif[274] == 6:\n",
        "                    image = image.rotate(270, expand=True)\n",
        "                if exif[274] == 8:\n",
        "                    image = image.rotate(90, expand=True)\n",
        "\n",
        "        # If has an alpha channel, remove it for consistency\n",
        "        if img_shape[-1] == 4:\n",
        "            image = image[..., :3]\n",
        "\n",
        "        return np.array(image)\n",
        "\n",
        "    @staticmethod\n",
        "    def pad(image, target):\n",
        "        # padding_left, padding_right, padding_top, padding_bottom\n",
        "        pad_left = 640 - image.shape[2]\n",
        "        pad_bottom = 640 - image.shape[1]\n",
        "        image = torch.nn.functional.pad(image, pad=(0, pad_left, 0, pad_bottom), mode='constant', value=255)\n",
        "        target = torch.nn.functional.pad(target, pad=(0, pad_left, 0, pad_bottom), mode='constant', value=0)\n",
        "        \n",
        "        return (image, target)\n",
        "\n",
        "    def __len__(self):\n",
        "        return self.num_images\n",
        "\n",
        "    def __getitem__(self, idx):\n",
        "        image = self.load_image(idx)\n",
        "        image = np.moveaxis(image, [0, 1, 2], [1, 2, 0])\n",
        "        image_tensor = torch.tensor(image)\n",
        "        image_tensor = image_tensor.float()\n",
        "        image_tensor = image_tensor / 255\n",
        "        if self.transforms is not None:\n",
        "            image_tensor = self.transforms(image_tensor)\n",
        "\n",
        "        mask = torch.load(Path(self.mask_root).joinpath(self.masks[idx]))\n",
        "        mask = mask.long()\n",
        "        if self.randomRotation:\n",
        "          numrots = random.randint(1,4)\n",
        "          np.rot90(image_tensor, k=numrots, axes=(1, 2))\n",
        "          np.rot90(mask, k=numrots, axes=(0, 1))\n",
        "\n",
        "        if self.randomCrop:\n",
        "          image_tensor, mask = self.pad(image_tensor, mask)\n",
        "          i, j, h, w = transforms.RandomCrop.get_params(image_tensor, output_size=(400, 400))\n",
        "          cropped_image = image_tensor[:, i:i + h, j:j + w]\n",
        "          cropped_mask = mask[i:i + h, j:j + w]\n",
        "          image_tensor = F.pad(input=image_tensor, pad=(80, 80, 80, 80, 0, 0), mode='constant', value=0)\n",
        "          return (cropped_image, cropped_mask)\n",
        "        elif self.usePadding:\n",
        "          image_tensor = F.pad(input=image_tensor, pad=(80, 80, 80, 80, 0, 0), mode='constant', value=0)\n",
        "          return self.pad(image_tensor, mask)\n",
        "        else: \n",
        "          image_tensor = F.pad(input=image_tensor, pad=(80, 80, 80, 80, 0, 0), mode='constant', value=0)\n",
        "          return (image_tensor, mask)                 "
      ],
      "execution_count": null,
      "outputs": []
    },
    {
      "cell_type": "markdown",
      "metadata": {
        "id": "F32Fye8XV7xx",
        "colab_type": "text"
      },
      "source": [
        "And additional helper functions for that class:"
      ]
    },
    {
      "cell_type": "code",
      "metadata": {
        "id": "LUc-itM5j8q3",
        "colab_type": "code",
        "colab": {}
      },
      "source": [
        "def get_taco_dataset(usePadding=True, randomCrop=False, randomRotation=False):\n",
        "  preprocess = transforms.Compose([\n",
        "      transforms.Normalize(mean=[0.485, 0.456, 0.406], std=[0.229, 0.224, 0.225]),\n",
        "  ])\n",
        "\n",
        "  return TacoDataset('/content/taco-dataset-resized-640/content', '/content/taco-dataset-resized-640-masks/masks_pt', '/content/taco-dataset-resized-640/content/annotations.json', transforms=preprocess, usePadding=usePadding, randomCrop=randomCrop, randomRotation=randomRotation)\n",
        "\n",
        "def get_samplers(dataset, val_split=0.1, test_split=0.1, shuffle_dataset=True):\n",
        "  dataset_size = len(dataset.image_ids)\n",
        "  indices = list(range(dataset_size))\n",
        "  val_split = int(np.floor(val_split * dataset_size))\n",
        "  test_split = int(np.floor(test_split * dataset_size))\n",
        "\n",
        "  np.random.seed(1)\n",
        "  if shuffle_dataset :\n",
        "      np.random.shuffle(indices)\n",
        "  train_indices = indices[(test_split+val_split):]\n",
        "  val_indices = indices[test_split:(test_split+val_split)]\n",
        "  test_indices = indices[:test_split]\n",
        "  print(test_indices)\n",
        "\n",
        "  train_sampler = torch.utils.data.SubsetRandomSampler(train_indices)\n",
        "  val_sampler = torch.utils.data.SubsetRandomSampler(val_indices)\n",
        "  test_sampler = torch.utils.data.SubsetRandomSampler(test_indices)\n",
        "\n",
        "\n",
        "  return train_sampler, val_sampler, test_sampler\n",
        "\n",
        "def get_dataloaders(dataset, batch_size, shuffle_dataset=True, collate_fn=None, test_batch_size=1):\n",
        "  train_sampler, val_sampler, test_sampler = get_samplers(dataset=dataset, shuffle_dataset=shuffle_dataset)\n",
        "  \n",
        "  train_loader = torch.utils.data.DataLoader(dataset, \n",
        "                                     batch_size=batch_size, \n",
        "                                     drop_last=True, \n",
        "                                     sampler=train_sampler,\n",
        "                                     collate_fn=collate_fn)\n",
        "  \n",
        "  val_loader = torch.utils.data.DataLoader(dataset, \n",
        "                                     batch_size=test_batch_size, \n",
        "                                     drop_last=True, \n",
        "                                     sampler=val_sampler,\n",
        "                                     collate_fn=collate_fn)\n",
        "  \n",
        "  test_loader = torch.utils.data.DataLoader(dataset, \n",
        "                                     batch_size=test_batch_size, \n",
        "                                     drop_last=True, \n",
        "                                     sampler=test_sampler,\n",
        "                                     collate_fn=collate_fn)\n",
        "  \n",
        "  return train_loader, val_loader, test_loader"
      ],
      "execution_count": null,
      "outputs": []
    },
    {
      "cell_type": "markdown",
      "metadata": {
        "id": "0ei6xs-clF2W",
        "colab_type": "text"
      },
      "source": [
        "# Network Architecture"
      ]
    },
    {
      "cell_type": "markdown",
      "metadata": {
        "id": "Airsjl6tW7K1",
        "colab_type": "text"
      },
      "source": [
        "We re-use the architecture that was made for the reproduction project of the course CS4240. The original report and code can be found on [reproducedpapers.org](https://reproducedpapers.org/papers/HCCpp9BNEnUl0z6moLmg#rztA9goB4I5S1YB8Ah4up). The code below as a few very small adaptations to handle the TACO Dataset but is otherwise completely the same."
      ]
    },
    {
      "cell_type": "markdown",
      "metadata": {
        "id": "qNgG5O0ghg4P",
        "colab_type": "text"
      },
      "source": [
        "## Utility methods\n"
      ]
    },
    {
      "cell_type": "code",
      "metadata": {
        "id": "H2pJoEI7hbxo",
        "colab_type": "code",
        "colab": {}
      },
      "source": [
        "def center_crop_feature_map(feature_map: torch.Tensor, target_tensor: torch.Tensor) -> torch.Tensor:\n",
        "  \"\"\"Center crop a feature map in the x, y dimension to match the size of the \n",
        "  target tensor.\n",
        "  \n",
        "  Params\n",
        "  ------\n",
        "  feature_map: torch.Tensor\n",
        "    an 1 x 1 x H x W tensor representing a feature map\n",
        "\n",
        "  target_tensor: torch.Tensor\n",
        "    an 1 x 1 x H_crop x W_crop tensor whose size should be matched\n",
        "\n",
        "  Returns\n",
        "  -------\n",
        "  torch.Tensor\n",
        "    the feature_map center cropped to 1 x 1 x H_crop x W_crop\n",
        "\n",
        "  \"\"\"\n",
        " \n",
        "  _, _, feature_map_height, feature_map_width = feature_map.size()\n",
        "  _, _, target_height, target_width = target_tensor.size()\n",
        "  diff_y = (feature_map_height - target_height) // 2\n",
        "  diff_x = (feature_map_width - target_width) // 2\n",
        "\n",
        "  \n",
        "  return feature_map[\n",
        "          :, :, diff_y: (diff_y + target_height), diff_x: (diff_x + target_width)\n",
        "          ]\n",
        "\n",
        "def center_crop_image_tensor(in_tensor: torch.Tensor, target_dim: Tuple[int, int]) -> torch.Tensor:\n",
        "  \"\"\"Center crop an image tensor in the x, y dimension to match the target\n",
        "  dimensions.\n",
        "\n",
        "  Params\n",
        "  ------\n",
        "  in_tensor: torch.Tensor\n",
        "    a 1 x H x W tensor representing an image\n",
        "\n",
        "  target_dim: Tuple[int, int]\n",
        "    contains the target dimensions, H_crop and W_crop\n",
        "\n",
        "  Returns\n",
        "  -------\n",
        "  torch.Tensor\n",
        "    the in_tensor center cropped to 1 x H_crop x W_crop\n",
        "\n",
        "  \"\"\"\n",
        "\n",
        "  _, input_height, input_width = in_tensor.size()\n",
        "\n",
        "  diff_y = (input_height - target_dim[0]) // 2\n",
        "  diff_x = (input_width - target_dim[1]) // 2\n",
        "\n",
        "\n",
        "  return in_tensor[:, diff_y : diff_y + target_dim[0], diff_x : diff_x + target_dim[1]]\n",
        "\n",
        "def get_loss(data_loader: DataLoader, net: nn.Module, criterion) -> float:\n",
        "  \"\"\"Get average loss on the data in the given dataloader.\n",
        "  \n",
        "  Params\n",
        "  ------\n",
        "  data_loader: DataLoader\n",
        "    has the data over which the loss should be computed\n",
        "\n",
        "  net: nn.Module\n",
        "    neural net that produces an output\n",
        "\n",
        "  criterion: \n",
        "    loss function\n",
        "\n",
        "  \"\"\"\n",
        "  running_loss = 0\n",
        "  for (image, label) in data_loader:\n",
        "    image = image.cuda(0)\n",
        "    label = label.cuda(0)\n",
        "    out = net(image)\n",
        "\n",
        "    _,_,oh,ow = out.size()\n",
        "      \n",
        "    label = center_crop_image_tensor(label, (oh, ow))\n",
        "      \n",
        "\n",
        "    loss = criterion(out, label)\n",
        "    running_loss += loss.item()\n",
        "  return running_loss / len(data_loader)\n",
        "\n",
        "def plot_learning_curve(train_losses: list, test_losses: list, title: str, save_plot = False):\n",
        "  iterations = range(0, len(train_losses))\n",
        "  plt.figure(figsize=(20,15))\n",
        "  plt.plot(iterations, train_losses, label= \"train\")\n",
        "  plt.plot(iterations, test_losses, label= \"test\")\n",
        "  plt.title(title)\n",
        "  plt.ylabel('loss')\n",
        "  plt.xlabel('epoch')\n",
        "  plt.legend(['train', 'test'], loc='upper left')\n",
        "  if save_plot:\n",
        "    plt.savefig(f\"/content/drive/My Drive/{title}.png\")\n",
        "  plt.show()"
      ],
      "execution_count": null,
      "outputs": []
    },
    {
      "cell_type": "markdown",
      "metadata": {
        "id": "vqXorEQwhjY2",
        "colab_type": "text"
      },
      "source": [
        "## Network"
      ]
    },
    {
      "cell_type": "code",
      "metadata": {
        "id": "XeDq-ngd74k7",
        "colab_type": "code",
        "colab": {}
      },
      "source": [
        "def conv(kernel_size: int, in_channels: int, out_channels: int) -> nn.Conv2d:\n",
        "  \"\"\"Create a 2d convolutional layer.\n",
        "  \n",
        "  Params\n",
        "  ------\n",
        "  kernel_size: int\n",
        "    the kernel will have size (kernel_size x kernel_size)\n",
        "\n",
        "  in_channels: int\n",
        "    the number input feature maps\n",
        "\n",
        "  out_channels: int\n",
        "    the number of output feature maps\n",
        "\n",
        "  Returns\n",
        "  -------\n",
        "  Conv2d\n",
        "    a kernel_size x kernel_size convolutional layer\n",
        "  \"\"\"\n",
        "\n",
        "  return nn.Conv2d(in_channels, out_channels, kernel_size=kernel_size, padding=0)\n",
        "\n",
        "def conv_activate(in_channels: int, out_channels: int, init_method) -> nn.Sequential:\n",
        "  \"\"\"Two 3x3 convolutions followed by relus.\n",
        "  \n",
        "  Params\n",
        "  ------\n",
        "  in_channels: int\n",
        "    number of input feature maps for the first convolution\n",
        "\n",
        "  out_channels: int\n",
        "    number of input maps for the second convolution; number of output feature \n",
        "    maps for both convolutions\n",
        "\n",
        "  Returns\n",
        "  -------\n",
        "  nn.Sequential\n",
        "    sequence of a 3x3 convolution, relu, 3x3 convolution, relu\n",
        "  \"\"\"\n",
        "  c1 = conv(3, in_channels, out_channels)\n",
        "  c2 = conv(3, out_channels, out_channels)\n",
        "\n",
        "  if init_method == 'xavier':\n",
        "    torch.nn.init.xavier_normal_(c1.weight) \n",
        "    torch.nn.init.xavier_normal_(c2.weight) \n",
        "  elif init_method == 'kaiming':\n",
        "    torch.nn.init.kaiming_normal_(c1.weight)\n",
        "    torch.nn.init.kaiming_normal_(c2.weight)\n",
        "  else:\n",
        "    raise ValueError(f\"Invalid weight initialization method {init_method}.\")\n",
        "    \n",
        "  return nn.Sequential(\n",
        "      c1,\n",
        "      nn.ReLU(),\n",
        "      c2,\n",
        "      nn.ReLU())\n",
        "\n",
        "class Contraction(nn.Module):\n",
        "  \"\"\"Class representing one step in the contracting path.\n",
        "  \n",
        "  One step consists of two 3x3 convolutions, each followed by a relu. These\n",
        "  convolutions/relus are then followd by a max pooling operation. Both the \n",
        "  result from the convs/relus and the max pooling are returned, as the former\n",
        "  is needed for the expanding path, and the latter for continuing the \n",
        "  contracting path.\n",
        "  \"\"\"\n",
        "\n",
        "  def __init__(self, in_channels: int, out_channels: int, init_method: str):\n",
        "    super(Contraction, self).__init__()\n",
        "    \n",
        "    self.conv_activate = conv_activate(in_channels, out_channels, init_method)\n",
        "    self.maxpool = nn.MaxPool2d(2)\n",
        "   \n",
        "  def forward(self, x):\n",
        "    x = self.conv_activate(x) \n",
        "    mp = self.maxpool(x)\n",
        "\n",
        "    return mp, x\n",
        "    \n",
        "class Expansion(nn.Module):\n",
        "  \"\"\"Class representing one step in the expanding path.\n",
        "\n",
        "  One step consists of either:\n",
        "    1. An upsampling followed by a 2x2 convolution.\n",
        "    2. A 2x2 transpose convolution.\n",
        "\n",
        "    Both of these act on the output from the previous layer concatenated\n",
        "    with the feature map from the corresponding layer in the contracting path.\n",
        "\n",
        "  Followed by two 3x3 convolutions, each followed by a relu.\n",
        "  \"\"\"\n",
        "\n",
        "  def __init__(self, in_channels: int, out_channels: int, up_method: str, init_method: str):\n",
        "    super(Expansion, self).__init__()\n",
        "    \n",
        "    if up_method == 'upsample':\n",
        "      self.up2x2 = nn.Sequential(\n",
        "          nn.Upsample(scale_factor=2, mode = 'nearest'), # mode is nearest to match keras' default\n",
        "          conv(2, in_channels, out_channels)\n",
        "      )\n",
        "    elif up_method == 'transpose':\n",
        "      self.up2x2 = nn.ConvTranspose2d(in_channels, out_channels, kernel_size=2, stride=2)\n",
        "    else:\n",
        "      print(\"Invalid upconvolution method.\")\n",
        "\n",
        "    self.conv_activate = conv_activate(in_channels, out_channels, init_method)\n",
        "\n",
        "  def forward(self, x, fm):\n",
        "    \"\"\"\n",
        "    Params\n",
        "    ------\n",
        "    fm\n",
        "      feature map from the corresponding layer in the contracting path\n",
        "    \"\"\"\n",
        "    \n",
        "    x = self.up2x2(x)\n",
        "\n",
        "    # concatenate the previously extracted feature map with the upsampled map\n",
        "    fm = center_crop_feature_map(fm, x)\n",
        "    x = torch.cat([fm, x], dim=1)  \n",
        "    x = self.conv_activate(x)\n",
        "      \n",
        "    return x\n",
        "\n",
        "\n",
        "class UNet(nn.Module):\n",
        "  def __init__(self, num_classes: int, up_method = 'upsample', init_method = 'kaiming'):\n",
        "    super(UNet, self).__init__()    \n",
        "\n",
        "    self.contraction1 = Contraction(3, 64, init_method)\n",
        "    self.contraction2 = Contraction(64, 128, init_method)\n",
        "    self.contraction3 = Contraction(128, 256, init_method)\n",
        "    self.contraction4 = Contraction(256, 512, init_method)\n",
        "\n",
        "    self.bottomlayer = Contraction(512, 1024, init_method)\n",
        "    \n",
        "    self.expansion4 = Expansion(1024, 512, up_method, init_method)\n",
        "    self.expansion3 = Expansion(512, 256, up_method, init_method)\n",
        "    self.expansion2 = Expansion(256, 128, up_method, init_method)\n",
        "    self.expansion1 = Expansion(128, 64, up_method, init_method)\n",
        "    self.map_to_classes = conv(1, 64, num_classes)\n",
        "    if init_method == 'xavier':\n",
        "      torch.nn.init.xavier_normal_(self.map_to_classes.weight)\n",
        "    elif init_method == 'kaiming':\n",
        "      torch.nn.init.kaiming_normal_(self.map_to_classes.weight)\n",
        "    else:\n",
        "      raise ValueError(f\"Invalid weight initialization method {init_method}.\")\n",
        "    \n",
        "\n",
        "  def forward(self, x):\n",
        "    \n",
        "    x = x.float()\n",
        "    feature_maps = []\n",
        "\n",
        "    x, fm = self.contraction1(x)\n",
        "    feature_maps.append(fm)\n",
        "    x, fm = self.contraction2(x)\n",
        "    feature_maps.append(fm)    \n",
        "    x, fm = self.contraction3(x)\n",
        "    feature_maps.append(fm)\n",
        "    x, fm = self.contraction4(x)\n",
        "    feature_maps.append(fm)\n",
        "\n",
        "    _, x = self.bottomlayer(x)\n",
        "    x = self.expansion4(x, feature_maps[3]) \n",
        "    x = self.expansion3(x, feature_maps[2])\n",
        "    x = self.expansion2(x, feature_maps[1])\n",
        "    x = self.expansion1(x, feature_maps[0])\n",
        "    x = self.map_to_classes(x)\n",
        "    return x"
      ],
      "execution_count": null,
      "outputs": []
    },
    {
      "cell_type": "markdown",
      "metadata": {
        "id": "jSdEefou-Raq",
        "colab_type": "text"
      },
      "source": [
        "## Training method\n"
      ]
    },
    {
      "cell_type": "code",
      "metadata": {
        "id": "On_I-agRHsAp",
        "colab_type": "code",
        "colab": {}
      },
      "source": [
        "def plot_learning_curve(train_losses: list, test_losses: list, title: str, save_plot = False, save_dir = None):\n",
        "  \"\"\"Plots and shows training vs. test losses.\n",
        "  The number of train losses should be equal to the number of test losses.\n",
        "\n",
        "  Params\n",
        "  ------\n",
        "  train_losses: list\n",
        "    training losses as floating point values\n",
        "  \n",
        "  train_losses: list\n",
        "    test losses as floating point values\n",
        "\n",
        "  title: str\n",
        "    title of the plot\n",
        "\n",
        "  save_plot: bool\n",
        "    whether or not the plot should be saved\n",
        "\n",
        "  \"\"\"\n",
        "  iterations = range(0, len(train_losses))\n",
        "  plt.figure(figsize=(20,15))\n",
        "  plt.plot(iterations, train_losses, label= \"train\")\n",
        "  plt.plot(iterations, test_losses, label= \"test\")\n",
        "  plt.title(title)\n",
        "  plt.ylabel('loss')\n",
        "  plt.xlabel('epoch')\n",
        "  plt.legend(['train', 'test'], loc='upper left')\n",
        "  if save_plot:\n",
        "    if save_dir is not None:\n",
        "      plt.savefig(f\"{save_dir}{title}.png\")\n",
        "    else:\n",
        "      print(\"No save directory provided. Curve was not saved.\")\n",
        "  plt.show()"
      ],
      "execution_count": null,
      "outputs": []
    },
    {
      "cell_type": "code",
      "metadata": {
        "id": "iAm6vDvfNDRQ",
        "colab_type": "code",
        "colab": {}
      },
      "source": [
        "def train_unet(train_loader: DataLoader, test_loader: DataLoader, \n",
        "               up_method = 'upsample', init_method='kaiming', num_classes = 29, \n",
        "               num_epochs = 10, logging_mode = 'fine',\n",
        "               logging_interval = 25, early_stop_patience = 5, early_stop_treshold = 1e-3,\n",
        "               plot_curve: bool = True, save_model: bool = True, save_dir: str = None) -> (UNet, list, list):\n",
        "  \n",
        "  if save_model and save_dir is None:\n",
        "    print(\"Model is supposed to be saved, but no save directory was provided.\")\n",
        "    print(\"No training will take place.\")\n",
        "    return\n",
        "  \n",
        "  print(\"Started.\")\n",
        "  net: UNet = UNet(num_classes=num_classes, up_method=up_method, init_method=init_method)\n",
        "  net.train()\n",
        "  net.cuda(0)\n",
        "\n",
        "  criterion = nn.CrossEntropyLoss(ignore_index=255)\n",
        "  optimizer = optim.SGD(net.parameters(), lr= 0.0001, momentum=0.99)\n",
        "  scheduler = optim.lr_scheduler.ReduceLROnPlateau(optimizer, min_lr = 1e-5)\n",
        "  \n",
        "  train_losses = []\n",
        "  test_losses = []\n",
        "  min_loss = float(\"inf\")\n",
        "  early_stop_timer = 0\n",
        "  stopping_epoch = 0\n",
        "  for epoch in range(num_epochs):\n",
        "    stopping_epoch = epoch + 1\n",
        "    running_loss = 0.0\n",
        "    e_start = time.time()\n",
        "    for i, (image, label) in enumerate(train_loader):      \n",
        "      image = image.cuda(0)\n",
        "      label = label.cuda(0)\n",
        "\n",
        "      output = net(image)\n",
        "      _, _, oh, ow = output.size()\n",
        "      \n",
        "      label = center_crop_image_tensor(label, (oh, ow))\n",
        "      loss = criterion(output, label)\n",
        "      optimizer.zero_grad()\n",
        "      loss.backward()\n",
        "      optimizer.step()    \n",
        "\n",
        "      running_loss += loss.item()\n",
        "      \n",
        "      if i % logging_interval == logging_interval - 1:\n",
        "        if logging_mode == \"fine\":\n",
        "          print(f'[{epoch + 1}, {i + 1}] loss: {running_loss/logging_interval}')\n",
        "        if plot_curve:  \n",
        "          train_losses.append(running_loss/logging_interval)\n",
        "        running_loss = 0.0\n",
        "        \n",
        "        if plot_curve:\n",
        "          net.eval()\n",
        "          test_loss = get_loss(test_loader, net, criterion)\n",
        "          test_losses.append(test_loss)\n",
        "          net.train()\n",
        "\n",
        "    if logging_mode == 'fine' or logging_mode == 'coarse':  \n",
        "      print(f'[{epoch + 1}/{num_epochs}] completed in {time.time() - e_start} seconds')  \n",
        "\n",
        "    net.eval()\n",
        "    epoch_test_loss = get_loss(test_loader, net, criterion)\n",
        "    net.train()\n",
        "    scheduler.step(epoch_test_loss)\n",
        "\n",
        "    if min_loss - epoch_test_loss > early_stop_treshold:\n",
        "      if logging_mode == \"fine\":\n",
        "        print(f\"Loss diff {min_loss - epoch_test_loss} larger than treshold {early_stop_treshold}.\")\n",
        "      min_loss = epoch_test_loss\n",
        "      early_stop_timer = 0\n",
        "    else:\n",
        "      early_stop_timer += 1\n",
        "      if logging_mode == \"fine\":\n",
        "        print(f\"Loss diff {min_loss - epoch_test_loss} smaller than treshold {early_stop_treshold}.\")\n",
        "        print(f\"Early stop timer increased to {early_stop_timer}.\")\n",
        "    if early_stop_timer >= early_stop_patience:\n",
        "      break\n",
        "    if save_model:\n",
        "      checkpoint = { \n",
        "        'epoch': epoch,\n",
        "        'model': net.state_dict(),\n",
        "        'optimizer': optimizer.state_dict()}\n",
        "        # 'lr_sched': scheduler.state_dict()}\n",
        "      torch.save(checkpoint, f'{save_dir}/checkpoint_{up_method}_{init_method}_{num_epochs}_{len(train_loader)}.pth')\n",
        "\n",
        "  if logging_mode == 'fine' or logging_mode == 'coarse':\n",
        "    print(f\"Stopped training after {stopping_epoch} epochs.\")\n",
        "\n",
        "  if save_model:\n",
        "    torch.save(net.state_dict(), f'{save_dir}/model_{up_method}_{init_method}_{num_epochs}_{stopping_epoch}_{len(train_loader)}.pth')\n",
        "    print(f\"Saved model to {save_dir}/model_{up_method}_{init_method}_{num_epochs}_{stopping_epoch}_{len(train_loader)}.pth\")\n",
        "\n",
        "  if plot_curve:\n",
        "    plot_learning_curve(train_losses, test_losses, f\"{up_method}_{init_method}_{num_epochs}_{stopping_epoch}_{len(train_loader)}\", save_plot=True, save_dir = save_dir)\n",
        "  \n",
        "  return net, train_losses, test_losses\n",
        "\n"
      ],
      "execution_count": null,
      "outputs": []
    },
    {
      "cell_type": "markdown",
      "metadata": {
        "id": "bYZC6Jn1-UUP",
        "colab_type": "text"
      },
      "source": [
        "# Let's train the network!\n",
        "## First, we made the dataset and get the dataloaders:"
      ]
    },
    {
      "cell_type": "code",
      "metadata": {
        "id": "m8ZQzBSjoa5o",
        "colab_type": "code",
        "colab": {
          "base_uri": "https://localhost:8080/",
          "height": 86
        },
        "outputId": "4f347e60-c862-4bb7-9b74-de5850a9dd12"
      },
      "source": [
        "dataset = get_taco_dataset(usePadding=True, randomCrop=False, randomRotation=True)\n",
        "train_loader, val_loader, test_loader = get_dataloaders(dataset, batch_size=5)"
      ],
      "execution_count": null,
      "outputs": [
        {
          "output_type": "stream",
          "text": [
            "using 1500/1500\n",
            "dataset size = 1500\n",
            "[91, 75, 1264, 330, 1349, 774, 1038, 1285, 1165, 335, 685, 181, 1220, 101, 692, 1126, 169, 926, 1295, 414, 1410, 1279, 1464, 808, 102, 1399, 1243, 922, 1297, 761, 1158, 292, 1336, 1199, 231, 1037, 1141, 37, 53, 1009, 925, 561, 679, 589, 894, 697, 1211, 895, 1460, 194, 1176, 1259, 1104, 484, 990, 1179, 460, 1351, 421, 596, 1032, 1431, 572, 496, 1244, 304, 268, 309, 1371, 535, 1048, 453, 923, 547, 985, 1382, 1055, 140, 435, 1053, 301, 1047, 521, 1043, 527, 1068, 1173, 167, 462, 390, 823, 629, 48, 872, 111, 793, 631, 857, 386, 1078, 1396, 1426, 1134, 771, 80, 512, 636, 107, 577, 1407, 1477, 827, 950, 597, 60, 498, 119, 375, 1156, 620, 639, 1284, 881, 1087, 368, 1378, 644, 870, 19, 1093, 331, 201, 283, 898, 3, 1092, 443, 396, 553, 1231, 1245, 1237, 1251, 49, 587, 703, 1472, 104, 1166, 255]\n"
          ],
          "name": "stdout"
        }
      ]
    },
    {
      "cell_type": "markdown",
      "metadata": {
        "id": "w3juTzRq-fYZ",
        "colab_type": "text"
      },
      "source": [
        "### Train the network\n"
      ]
    },
    {
      "cell_type": "code",
      "metadata": {
        "id": "78Kf_PdkPIqn",
        "colab_type": "code",
        "colab": {
          "base_uri": "https://localhost:8080/",
          "height": 1000
        },
        "outputId": "e75816de-29a6-40af-9577-87c968c02c73"
      },
      "source": [
        "save_dir = \"/content/drive/My Drive/CV-models\"\n",
        "net, trloss, tloss = train_unet(train_loader, val_loader, up_method = 'upsample', init_method='xavier',num_epochs = 10, num_classes = 29, save_dir = save_dir, early_stop_patience=15)\n"
      ],
      "execution_count": null,
      "outputs": [
        {
          "output_type": "stream",
          "text": [
            "Started.\n",
            "[1, 25] loss: 3.421675796508789\n",
            "[1, 50] loss: 2.807900514602661\n",
            "[1, 75] loss: 1.27072507917881\n",
            "[1, 100] loss: 0.8977126511931419\n",
            "[1, 125] loss: 1.5390224811434745\n",
            "[1, 150] loss: 1.0927685958147049\n",
            "[1, 175] loss: 0.472095759510994\n",
            "[1, 200] loss: 0.714551386833191\n",
            "[1, 225] loss: 0.6353604996204376\n",
            "[1/10] completed in 1471.6359884738922 seconds\n",
            "Loss diff inf larger than treshold 0.001.\n",
            "[2, 25] loss: 0.4462579907476902\n",
            "[2, 50] loss: 0.5019890777766705\n",
            "[2, 75] loss: 0.499025916159153\n",
            "[2, 100] loss: 0.34014729380607606\n",
            "[2, 125] loss: 0.35491975367069245\n",
            "[2, 150] loss: 0.4086341869831085\n",
            "[2, 175] loss: 0.3942978087067604\n",
            "[2, 200] loss: 0.3112134191393852\n",
            "[2, 225] loss: 0.31481028959155083\n",
            "[2/10] completed in 1461.9304175376892 seconds\n",
            "Loss diff 0.0647476287931204 larger than treshold 0.001.\n",
            "[3, 25] loss: 0.3542401146888733\n",
            "[3, 50] loss: 0.30847021579742434\n",
            "[3, 75] loss: 0.42752478897571566\n",
            "[3, 100] loss: 0.3680280575156212\n",
            "[3, 125] loss: 0.35086644858121874\n",
            "[3, 150] loss: 0.3171504361927509\n",
            "[3, 175] loss: 0.36314708828926084\n",
            "[3, 200] loss: 0.2437438713014126\n",
            "[3, 225] loss: 0.31126811385154723\n",
            "[3/10] completed in 1467.6765644550323 seconds\n",
            "Loss diff 0.019698755728701722 larger than treshold 0.001.\n",
            "[4, 25] loss: 0.3737249156832695\n",
            "[4, 50] loss: 0.41585147857666016\n",
            "[4, 75] loss: 0.3260922884941101\n",
            "[4, 100] loss: 0.29024324744939806\n",
            "[4, 125] loss: 0.2725790649652481\n",
            "[4, 150] loss: 0.29968549221754076\n",
            "[4, 175] loss: 0.32163687095046045\n",
            "[4, 200] loss: 0.352686750292778\n",
            "[4, 225] loss: 0.2957720583677292\n",
            "[4/10] completed in 1473.4170818328857 seconds\n",
            "Loss diff 0.002780317186067527 larger than treshold 0.001.\n",
            "[5, 25] loss: 0.3623578214645386\n",
            "[5, 50] loss: 0.22394149899482726\n",
            "[5, 75] loss: 0.36191604390740395\n",
            "[5, 100] loss: 0.31240390956401826\n",
            "[5, 125] loss: 0.2976882120966911\n",
            "[5, 150] loss: 0.3269591465592384\n",
            "[5, 175] loss: 0.33704999163746835\n",
            "[5, 200] loss: 0.31993253380060194\n",
            "[5, 225] loss: 0.31747298121452333\n",
            "[5/10] completed in 1473.1481511592865 seconds\n",
            "Loss diff 0.007974386941641542 larger than treshold 0.001.\n",
            "[6, 25] loss: 0.2087002006173134\n",
            "[6, 50] loss: 0.31294983610510824\n",
            "[6, 75] loss: 0.40876404583454135\n",
            "[6, 100] loss: 0.2717729327082634\n",
            "[6, 125] loss: 0.324131543636322\n",
            "[6, 150] loss: 0.2952476780116558\n",
            "[6, 175] loss: 0.3770985977351666\n",
            "[6, 200] loss: 0.38229710280895235\n",
            "[6, 225] loss: 0.28803012818098067\n",
            "[6/10] completed in 1472.2348845005035 seconds\n",
            "Loss diff 0.0023903592551748343 larger than treshold 0.001.\n",
            "[7, 25] loss: 0.26309705674648287\n",
            "[7, 50] loss: 0.3261002367734909\n",
            "[7, 75] loss: 0.33570969611406326\n",
            "[7, 100] loss: 0.246610888838768\n",
            "[7, 125] loss: 0.3841617429256439\n",
            "[7, 150] loss: 0.30191883265972136\n",
            "[7, 175] loss: 0.40127890288829804\n",
            "[7, 200] loss: 0.24348160088062287\n",
            "[7, 225] loss: 0.3150222644209862\n",
            "[7/10] completed in 1472.0045275688171 seconds\n",
            "Loss diff 0.002229702509939646 larger than treshold 0.001.\n",
            "[8, 25] loss: 0.358993327319622\n",
            "[8, 50] loss: 0.2970910423994064\n",
            "[8, 75] loss: 0.34283399909734724\n",
            "[8, 100] loss: 0.2940500661730766\n",
            "[8, 125] loss: 0.34304977625608446\n",
            "[8, 150] loss: 0.3358066189289093\n",
            "[8, 175] loss: 0.3342518511414528\n",
            "[8, 200] loss: 0.2751305240392685\n",
            "[8, 225] loss: 0.23180442094802856\n",
            "[8/10] completed in 1481.5972077846527 seconds\n",
            "Loss diff 0.0013331211234132168 larger than treshold 0.001.\n",
            "[9, 25] loss: 0.24127487272024153\n",
            "[9, 50] loss: 0.27955558329820634\n",
            "[9, 75] loss: 0.309070698171854\n",
            "[9, 100] loss: 0.32424808874726296\n",
            "[9, 125] loss: 0.2667159843444824\n",
            "[9, 150] loss: 0.32783882796764374\n",
            "[9, 175] loss: 0.29165579795837404\n",
            "[9, 200] loss: 0.34860612004995345\n",
            "[9, 225] loss: 0.35901083290576935\n",
            "[9/10] completed in 1481.5344607830048 seconds\n",
            "Loss diff -0.006171782917032631 smaller than treshold 0.001.\n",
            "Early stop timer increased to 1.\n",
            "[10, 25] loss: 0.39267030864953995\n",
            "[10, 50] loss: 0.38408225804567336\n",
            "[10, 75] loss: 0.30320698738098145\n",
            "[10, 100] loss: 0.2107203121483326\n",
            "[10, 125] loss: 0.20123710319399835\n",
            "[10, 150] loss: 0.39258320033550265\n",
            "[10, 175] loss: 0.32099231868982314\n",
            "[10, 200] loss: 0.23779991686344146\n",
            "[10, 225] loss: 0.35180106163024905\n",
            "[10/10] completed in 1480.954091310501 seconds\n",
            "Loss diff 0.0021700023363034338 larger than treshold 0.001.\n",
            "Stopped training after 10 epochs.\n",
            "Saved model to /content/drive/My Drive/CV-models/model_upsample_xavier_10_10_240.pth\n"
          ],
          "name": "stdout"
        },
        {
          "output_type": "display_data",
          "data": {
            "image/png": "[encoded data removed]",
            "text/plain": [
              "<Figure size 1440x1080 with 1 Axes>"
            ]
          },
          "metadata": {
            "tags": [],
            "needs_background": "light"
          }
        }
      ]
    },
    {
      "cell_type": "markdown",
      "metadata": {
        "id": "eCQi84bEFDe2",
        "colab_type": "text"
      },
      "source": [
        "## Evaluate the network"
      ]
    },
    {
      "cell_type": "markdown",
      "metadata": {
        "id": "ElnTYsMr4gY4",
        "colab_type": "text"
      },
      "source": [
        "## Evaluation Methods\n",
        "\n"
      ]
    },
    {
      "cell_type": "code",
      "metadata": {
        "id": "yUOzejG-aroC",
        "colab_type": "code",
        "colab": {}
      },
      "source": [
        "def true_false_pos_neg(output: np.ndarray, label: np.ndarray, threshold: float):\n",
        "  output[output > threshold] = 1\n",
        "  output[output <= threshold] = 0\n",
        "\n",
        "  true_pos = np.sum((output == label) & (output == 1))\n",
        "  false_pos = np.sum((output != label) & (output == 1))\n",
        "  true_neg = np.sum((output == label) & (output == 0))\n",
        "  false_neg = np.sum((output != label) & (output == 0))\n",
        "\n",
        "  return true_pos, false_pos, true_neg, false_neg\n",
        "\n",
        "def f_score(output: np.ndarray, label: np.ndarray, threshold: float):\n",
        "  true_pos, false_pos, true_neg, false_neg = true_false_pos_neg(output, label, threshold)\n",
        "\n",
        "  precision, recall, fscore = 0, 0, 0\n",
        "\n",
        "  if false_pos == 0 : \n",
        "    precision = 1\n",
        "  else:  \n",
        "    precision = true_pos / (true_pos + false_pos)\n",
        "\n",
        "  if false_neg == 0:\n",
        "    recall = 1\n",
        "  else:\n",
        "    recall = true_pos / (true_pos + false_neg)\n",
        "\n",
        "  if precision + recall > 0:\n",
        "    fscore = 2 * precision * recall / (precision + recall)  \n",
        "  return fscore\n",
        "\n",
        "def best_f_score(output, label):\n",
        "  thresholds = np.linspace(0,1,11)\n",
        "  best_f = 0\n",
        "\n",
        "  for thr in thresholds:\n",
        "    new_f = f_score(output, label, thr)\n",
        "    if new_f > best_f:\n",
        "      best_f = new_f\n",
        "  return best_f\n",
        "\n",
        "def pixel_error(output, label):\n",
        "  best_f = best_f_score(output.copy(), label)\n",
        "  return 1 - best_f\n",
        "\n",
        "\n",
        "def naive_pixel_error(output: np.ndarray, label: np.ndarray):\n",
        "  \"\"\"Calculates the percentage of pixels that were NOT correctly classified.\n",
        "\n",
        "  Params\n",
        "  ------\n",
        "  output: np.ndarray\n",
        "    a 2-dimensional integer array in which the background pixels are labeled with a 1\n",
        "    representing the predicted labels\n",
        "\n",
        "  label: np.ndarray\n",
        "    a 2-dimensional integer array in which the background pixels are labeled with a 1\n",
        "    representing the true labels\n",
        "  \n",
        "  \"\"\"\n",
        "\n",
        "  return np.sum(output != label)/output.size\n",
        "\n",
        "def intersection_over_union(predicted: np.ndarray, label: np.ndarray):\n",
        "  \"\"\"Calculates the intersection over union of the output and the true label.\n",
        "\n",
        "  Params\n",
        "  ------\n",
        "  predicted: np.ndarray\n",
        "    a 2-dimensional integer array in which the background pixels are labeled \n",
        "    with a 1; represents the predicted labels\n",
        "\n",
        "  label: np.ndarray\n",
        "    a 2-dimensional integer array in which the background pixels are labeled \n",
        "    with a 1; represents the true labels\n",
        "  \n",
        "  \"\"\"\n",
        "  \n",
        "  intersection = (predicted & label).sum((0,1))\n",
        "  union = (predicted | label).sum((0,1))\n",
        "  return intersection / union\n",
        "\n",
        "\n",
        "def binary_mask(image: np.ndarray, chan = 1):\n",
        "  \"\"\"Apply mask to image. Every value over 0.5 becomes a 1, every value\n",
        "  under 0.5 becomes a 0.\n",
        "  \n",
        "  Params\n",
        "  ------\n",
        "  image: np.ndarray\n",
        "    a H X W X C image; H is height, W is width, C is channels (assumed to be 2)\n",
        "\n",
        "  chan: int\n",
        "    whether the correct labelings can be found in channel 0 or 1\n",
        "  \"\"\"\n",
        "\n",
        "  masked = image[:,:,chan]\n",
        "  masked[masked < 0.5] = 0\n",
        "  masked[masked >= 0.5] = 1\n",
        "  return masked.astype('int')\n",
        "\n",
        "def argmax_mask(image: np.ndarray):\n",
        "  \"\"\"Apply mask to an image. Finds the index of the channel with the largest\n",
        "  value.\n",
        "\n",
        "  Params\n",
        "  ------\n",
        "  image: np.ndarray\n",
        "    H X W X C image\n",
        "    H is the height, W the width, C the number of channels\n",
        "  \"\"\"\n",
        "  return np.argmax(image, axis=2)\n",
        "\n"
      ],
      "execution_count": null,
      "outputs": []
    },
    {
      "cell_type": "markdown",
      "metadata": {
        "id": "vfSiJktMMY_h",
        "colab_type": "text"
      },
      "source": [
        "## Load network\n",
        "\n",
        "If you trained a network earlier in this notebook you don't need to load one, but if you want to, this is where you can do it!"
      ]
    },
    {
      "cell_type": "code",
      "metadata": {
        "colab_type": "code",
        "id": "BRkEDrDXKHug",
        "colab": {
          "base_uri": "https://localhost:8080/",
          "height": 33
        },
        "outputId": "a8a2130e-fbd5-4918-b6b9-f28a550f8ca1"
      },
      "source": [
        "net = UNet(num_classes=29, up_method='upsample', init_method='xavier')\n",
        "net.load_state_dict(torch.load(\"/content/drive/My Drive/CV-models/model_upsample_xavier_10_10_240.pth\"))\n",
        "net.cuda(0)\n",
        "print()"
      ],
      "execution_count": null,
      "outputs": [
        {
          "output_type": "stream",
          "text": [
            "\n"
          ],
          "name": "stdout"
        }
      ]
    },
    {
      "cell_type": "markdown",
      "metadata": {
        "id": "50hmeyPtOQcK",
        "colab_type": "text"
      },
      "source": [
        "### Get output\n",
        "\n"
      ]
    },
    {
      "cell_type": "code",
      "metadata": {
        "colab_type": "code",
        "id": "JWNmn3fcKHuk",
        "colab": {}
      },
      "source": [
        "with torch.no_grad():\n",
        "  cropped_images = []\n",
        "  seg_images = []\n",
        "  masked_images = []\n",
        "  argmasked_images = []\n",
        "  cropped_labels = []\n",
        "  labels = []\n",
        "  outputs = []\n",
        "\n",
        "  for i, (image, label) in enumerate(test_loader): \n",
        "\n",
        "    image = image.cuda(0)\n",
        "    out = net(image)\n",
        "    out = out.cpu()\n",
        "\n",
        "    labels.append(label)\n",
        "    outputs.append(out.argmax(1))\n",
        "\n",
        "    img_size = image.size()\n",
        "    ob, oc, oh, ow = out.size()\n",
        "\n",
        "    out = out.reshape(oc, oh, ow).permute(1,2,0).detach().numpy()\n",
        "\n",
        "    seg_images.append(out)\n",
        "    masked_images.append(binary_mask(out))\n",
        "    argmasked_images.append(np.argmax(seg_images[i], axis=2))\n",
        "    cropped_labels.append(center_crop_image_tensor(label, (oh, ow)).reshape(oh, ow).detach().numpy())\n",
        "    # print(center_crop_image_tensor(label, (oh, ow)).reshape(oh, ow).detach().numpy().shape)\n",
        "    # crop_img = center_crop_image_tensor(image.cpu().reshape(3,img_size[2],(img_size[3])), (3, oh, ow))\n",
        "    # print(crop_img.size())\n",
        "    # cropped_images.append(center_crop_image_tensor(image.cpu().reshape(3,img_size[2],(img_size[3])), (3, oh, ow)).reshape(3, oh, ow).detach().numpy())"
      ],
      "execution_count": null,
      "outputs": []
    },
    {
      "cell_type": "markdown",
      "metadata": {
        "id": "dwRBPs5YtkBe",
        "colab_type": "text"
      },
      "source": [
        "# Inspect output of the model"
      ]
    },
    {
      "cell_type": "code",
      "metadata": {
        "id": "fkAGpoklvJw7",
        "colab_type": "code",
        "colab": {
          "base_uri": "https://localhost:8080/",
          "height": 571
        },
        "outputId": "e3b57dca-91db-4016-af0e-2d2d7cb174b2"
      },
      "source": [
        "idx = 0\n",
        "print(labels[idx].shape)\n",
        "print(outputs[idx].shape)\n",
        "plt.imshow(labels[idx].reshape(labels[idx].shape[1],labels[idx].shape[2]))\n",
        "plt.show()\n",
        "plt.imshow(outputs[idx].reshape(outputs[idx].shape[1],outputs[idx].shape[2]))\n",
        "plt.show()\n",
        "print(sum(sum(sum(sum(outputs)))))"
      ],
      "execution_count": null,
      "outputs": [
        {
          "output_type": "stream",
          "text": [
            "torch.Size([1, 480, 480])\n",
            "torch.Size([1, 437, 437])\n"
          ],
          "name": "stdout"
        },
        {
          "output_type": "display_data",
          "data": {
            "image/png": "[encoded data removed]",
            "text/plain": [
              "<Figure size 432x288 with 1 Axes>"
            ]
          },
          "metadata": {
            "tags": [],
            "needs_background": "light"
          }
        },
        {
          "output_type": "display_data",
          "data": {
            "image/png": "[encoded data removed]",
            "text/plain": [
              "<Figure size 432x288 with 1 Axes>"
            ]
          },
          "metadata": {
            "tags": [],
            "needs_background": "light"
          }
        },
        {
          "output_type": "stream",
          "text": [
            "tensor(0)\n"
          ],
          "name": "stdout"
        }
      ]
    },
    {
      "cell_type": "markdown",
      "metadata": {
        "id": "4YwoeIaNbKuY",
        "colab_type": "text"
      },
      "source": [
        "### Evaluate\n"
      ]
    },
    {
      "cell_type": "code",
      "metadata": {
        "id": "wCRKV-e7lFil",
        "colab_type": "code",
        "colab": {}
      },
      "source": [
        "def _fast_hist(label_true, label_pred, n_class):\n",
        "    mask = (label_true >= 0) & (label_true < n_class)\n",
        "    hist = np.bincount(\n",
        "        n_class * label_true[mask] + label_pred[mask],\n",
        "        minlength=n_class ** 2,\n",
        "    ).reshape(n_class, n_class)\n",
        "    return hist\n",
        "\n",
        "def scores(label_trues, label_preds, n_class):\n",
        "    hist = np.zeros((n_class, n_class))\n",
        "    for lt, lp in zip(label_trues, label_preds):\n",
        "        lt = lt.to('cpu')\n",
        "        lp = lp.to('cpu')\n",
        "        hist += _fast_hist(lt.flatten(), lp.flatten(), n_class)\n",
        "    acc = np.diag(hist).sum() / hist.sum()\n",
        "    acc_cls = np.diag(hist) / hist.sum(axis=1)\n",
        "    acc_cls = np.nanmean(acc_cls)\n",
        "    iu = np.diag(hist) / (hist.sum(axis=1) + hist.sum(axis=0) - np.diag(hist))\n",
        "    valid = hist.sum(axis=1) > 0  # added\n",
        "    mean_iu = np.nanmean(iu[valid])\n",
        "    freq = hist.sum(axis=1) / hist.sum()\n",
        "    fwavacc = (freq[freq > 0] * iu[freq > 0]).sum()\n",
        "    cls_iu = dict(zip(range(n_class), iu))\n",
        "\n",
        "    return {\n",
        "        \"Pixel Accuracy\": acc,\n",
        "        \"Mean Accuracy\": acc_cls,\n",
        "        \"Frequency Weighted IoU\": fwavacc,\n",
        "        \"Mean IoU\": mean_iu,\n",
        "        \"Class IoU\": cls_iu,\n",
        "    }\n",
        "\n",
        "def evaluate_metrics(model, test_loader, num_classes):\n",
        "  #model.eval()\n",
        "  labels = []\n",
        "  outputs = []\n",
        "\n",
        "  for i, (image, label) in enumerate(test_loader):      \n",
        "    image = image.cuda(0)\n",
        "    output = model(image)\n",
        "    # output = output.cpu()\n",
        "    output = torch.nn.functional.softmax(output)\n",
        "    output = output.cpu() \n",
        "\n",
        "    # output = output['out']\n",
        "    \n",
        "    labels.append(label)\n",
        "    outputs.append(output.argmax(1))\n",
        "\n",
        "    \n",
        "  return scores(labels, outputs, num_classes)"
      ],
      "execution_count": null,
      "outputs": []
    },
    {
      "cell_type": "code",
      "metadata": {
        "id": "W8uaffeE0S9C",
        "colab_type": "code",
        "colab": {}
      },
      "source": [
        "eval_results = scores(labels, outputs, 29)\n",
        "print(eval_results)"
      ],
      "execution_count": null,
      "outputs": []
    },
    {
      "cell_type": "markdown",
      "metadata": {
        "id": "rh3AxqY-tr8t",
        "colab_type": "text"
      },
      "source": [
        "#Further evaluate output"
      ]
    },
    {
      "cell_type": "code",
      "metadata": {
        "colab_type": "code",
        "id": "JvZ5kJIGKHu0",
        "colab": {
          "base_uri": "https://localhost:8080/",
          "height": 83
        },
        "outputId": "af6ce1d7-5041-4125-e925-57bf3e05c698"
      },
      "source": [
        "IOUs = []\n",
        "naive_pixel_errors = []\n",
        "pixel_errors = []\n",
        "\n",
        "for i in range(0, len(cropped_labels)):\n",
        "  IOUs.append(intersection_over_union(masked_images[i], cropped_labels[i]))\n",
        "  naive_pixel_errors.append(naive_pixel_error(masked_images[i], cropped_labels[i]))\n",
        "  pixel_errors.append(pixel_error(seg_images[i][:,:,1], cropped_labels[i]))\n",
        "\n",
        "print(sum(IOUs)/len(IOUs))\n",
        "print(sum(naive_pixel_errors)/len(naive_pixel_errors))\n",
        "print(sum(pixel_errors)/len(pixel_errors))"
      ],
      "execution_count": null,
      "outputs": [
        {
          "output_type": "stream",
          "text": [
            "/usr/local/lib/python3.6/dist-packages/ipykernel_launcher.py:80: RuntimeWarning: invalid value encountered in long_scalars\n"
          ],
          "name": "stderr"
        },
        {
          "output_type": "stream",
          "text": [
            "nan\n",
            "0.04529201933059931\n",
            "0.85\n"
          ],
          "name": "stdout"
        }
      ]
    },
    {
      "cell_type": "markdown",
      "metadata": {
        "id": "_fc23TkfbN2j",
        "colab_type": "text"
      },
      "source": [
        "### Plot images\n"
      ]
    },
    {
      "cell_type": "code",
      "metadata": {
        "id": "NfKHF433Ng3d",
        "colab_type": "code",
        "colab": {
          "base_uri": "https://localhost:8080/",
          "height": 773
        },
        "outputId": "a599f9ef-5beb-4804-a59f-b029c99a8f70"
      },
      "source": [
        "plt.imshow(seg_images[0][:,:,1], cmap='gray')\n",
        "plt.show()\n",
        "\n",
        "plt.imshow(argmasked_images[0], cmap='gray')\n",
        "plt.show()\n",
        "\n",
        "plt.imshow(masked_images[0], cmap= 'gray')\n",
        "plt.show()"
      ],
      "execution_count": null,
      "outputs": [
        {
          "output_type": "display_data",
          "data": {
            "image/png": "[encoded data removed]",
            "text/plain": [
              "<Figure size 432x288 with 1 Axes>"
            ]
          },
          "metadata": {
            "tags": [],
            "needs_background": "light"
          }
        },
        {
          "output_type": "display_data",
          "data": {
            "image/png": "[encoded data removed]",
            "text/plain": [
              "<Figure size 432x288 with 1 Axes>"
            ]
          },
          "metadata": {
            "tags": [],
            "needs_background": "light"
          }
        },
        {
          "output_type": "display_data",
          "data": {
            "image/png": "[encoded data removed]",
            "text/plain": [
              "<Figure size 432x288 with 1 Axes>"
            ]
          },
          "metadata": {
            "tags": [],
            "needs_background": "light"
          }
        }
      ]
    }
  ]
}